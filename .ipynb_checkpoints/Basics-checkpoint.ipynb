{
 "cells": [
  {
   "cell_type": "markdown",
   "metadata": {},
   "source": [
    "#### The three key challenges which make training medical image classification algorithms more challenging are :\n",
    "* Class Imbalance\n",
    "* Multi task\n",
    "* Dataset size"
   ]
  },
  {
   "cell_type": "markdown",
   "metadata": {},
   "source": [
    "##### For solving class imbalance problem"
   ]
  },
  {
   "cell_type": "markdown",
   "metadata": {},
   "source": [
    "The solution to the class imbalance problem is to modify the loss function, to weight the normal and the mass classes differently. W_p will be the weight we assign to the positive or to the mass examples, and w_n to the negative or normal examples"
   ]
  },
  {
   "cell_type": "markdown",
   "metadata": {},
   "source": [
    " With this setting of w_p and w_n, we can have over all of the examples for the loss contributions from the positive and the negative class to be the same. So this is the idea of modifying the loss using weights, in this method that's called the weighted loss, to tackle the class imbalance problem."
   ]
  },
  {
   "cell_type": "markdown",
   "metadata": {},
   "source": [
    "Second Solution :\n",
    "    Resampling - UnderSampling or OverSampling "
   ]
  },
  {
   "cell_type": "markdown",
   "metadata": {},
   "source": [
    "##### Multi task"
   ]
  },
  {
   "cell_type": "markdown",
   "metadata": {},
   "source": [
    "Multi task predicting two or more from same dataset to solve this problem using multi task loss"
   ]
  },
  {
   "cell_type": "markdown",
   "metadata": {},
   "source": [
    "Once again, we can apply the weighted loss that we have covered earlier. This time, we not only have a weight associated with just the positive and the negative labels, but it's for the positive label associated with that particular class and the negative label associated with that particular tasks such that for mass, there will be a different way to the positive class than to pneumonia or to edema"
   ]
  },
  {
   "cell_type": "markdown",
   "metadata": {},
   "source": [
    "##### Dataset size"
   ]
  },
  {
   "cell_type": "markdown",
   "metadata": {},
   "source": [
    "The Approach for pre training and fine tuning is called transfer learning and is effective way to tackle small dataset challenge and Other way to tackle is to data augmentation"
   ]
  }
 ],
 "metadata": {
  "kernelspec": {
   "display_name": "Python 3",
   "language": "python",
   "name": "python3"
  },
  "language_info": {
   "codemirror_mode": {
    "name": "ipython",
    "version": 3
   },
   "file_extension": ".py",
   "mimetype": "text/x-python",
   "name": "python",
   "nbconvert_exporter": "python",
   "pygments_lexer": "ipython3",
   "version": "3.7.3"
  }
 },
 "nbformat": 4,
 "nbformat_minor": 2
}
