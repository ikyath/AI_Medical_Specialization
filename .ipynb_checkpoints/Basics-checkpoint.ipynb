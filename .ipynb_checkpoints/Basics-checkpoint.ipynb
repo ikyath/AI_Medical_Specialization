{
 "cells": [
  {
   "cell_type": "markdown",
   "metadata": {},
   "source": [
    "#### The three key challenges which make training medical image classification algorithms more challenging are :\n",
    "* Class Imbalance\n",
    "* Multi task\n",
    "* Dataset size"
   ]
  },
  {
   "cell_type": "markdown",
   "metadata": {},
   "source": [
    "##### For solving class imbalance problem"
   ]
  },
  {
   "cell_type": "markdown",
   "metadata": {},
   "source": [
    "The solution to the class imbalance problem is to modify the loss function, to weight the normal and the mass classes differently. W_p will be the weight we assign to the positive or to the mass examples, and w_n to the negative or normal examples"
   ]
  },
  {
   "cell_type": "markdown",
   "metadata": {},
   "source": [
    " With this setting of w_p and w_n, we can have over all of the examples for the loss contributions from the positive and the negative class to be the same. So this is the idea of modifying the loss using weights, in this method that's called the weighted loss, to tackle the class imbalance problem."
   ]
  },
  {
   "cell_type": "markdown",
   "metadata": {},
   "source": [
    "Second Solution :\n",
    "    Resampling - UnderSampling or OverSampling "
   ]
  },
  {
   "cell_type": "markdown",
   "metadata": {},
   "source": [
    "##### Multi task"
   ]
  },
  {
   "cell_type": "markdown",
   "metadata": {},
   "source": [
    "Multi task predicting two or more from same dataset to solve this problem using multi task loss"
   ]
  },
  {
   "cell_type": "markdown",
   "metadata": {},
   "source": [
    "Once again, we can apply the weighted loss that we have covered earlier. This time, we not only have a weight associated with just the positive and the negative labels, but it's for the positive label associated with that particular class and the negative label associated with that particular tasks such that for mass, there will be a different way to the positive class than to pneumonia or to edema"
   ]
  },
  {
   "cell_type": "markdown",
   "metadata": {},
   "source": [
    "##### Dataset size"
   ]
  },
  {
   "cell_type": "markdown",
   "metadata": {},
   "source": [
    "The Approach for pre training and fine tuning is called transfer learning and is effective way to tackle small dataset challenge and Other way to tackle is to data augmentation"
   ]
  },
  {
   "cell_type": "markdown",
   "metadata": {},
   "source": [
    "##### Accuracy"
   ]
  },
  {
   "cell_type": "markdown",
   "metadata": {},
   "source": [
    "Disease = +, Normal = -\n",
    "\n",
    "Accuracy = P(+/Disease)*P(Disease)+P(-/Normal)*P(Normal)\n",
    "\n",
    "Sensitivity = P(+/Disease)\n",
    "\n",
    "Specifity = P(-/Normal)\n",
    "\n",
    "Accuracy = Senstivity * P(Disease) + Specifity * (1-P(Disease))"
   ]
  },
  {
   "cell_type": "markdown",
   "metadata": {},
   "source": [
    "PPV or Positive Predicted Value = P(Disease/+)\n",
    "\n",
    "NPV or Negative Predicted Value = P(Disease/-)"
   ]
  },
  {
   "cell_type": "markdown",
   "metadata": {},
   "source": [
    "##### Confusion Matrix"
   ]
  },
  {
   "cell_type": "markdown",
   "metadata": {},
   "source": [
    "            +       -\n",
    "Disease    TP      FN    Sensitivity\n",
    "\n",
    "Normal     FP      TN    Specifity\n",
    "\n",
    "          PPV      NPV"
   ]
  },
  {
   "cell_type": "markdown",
   "metadata": {},
   "source": [
    "##### Confidence Interval"
   ]
  },
  {
   "cell_type": "markdown",
   "metadata": {},
   "source": [
    "In fact, when we have 95 percent confidence intervals, 95 percent of the samples will contain the population accuracy. Ninety-five percent is what's called our confidence level. Thus, the interpretation of 95 percent confidence is that in repeated sampling, this method produces intervals that include the population accuracy in about 95 percent of samples."
   ]
  },
  {
   "cell_type": "code",
   "execution_count": null,
   "metadata": {},
   "outputs": [],
   "source": []
  }
 ],
 "metadata": {
  "kernelspec": {
   "display_name": "Python 3",
   "language": "python",
   "name": "python3"
  },
  "language_info": {
   "codemirror_mode": {
    "name": "ipython",
    "version": 3
   },
   "file_extension": ".py",
   "mimetype": "text/x-python",
   "name": "python",
   "nbconvert_exporter": "python",
   "pygments_lexer": "ipython3",
   "version": "3.7.3"
  }
 },
 "nbformat": 4,
 "nbformat_minor": 2
}
